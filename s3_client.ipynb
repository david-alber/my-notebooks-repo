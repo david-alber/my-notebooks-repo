{
 "cells": [
  {
   "cell_type": "code",
   "execution_count": 1,
   "id": "acbf6843-da5f-407e-af5f-d6030d6d411f",
   "metadata": {
    "tags": []
   },
   "outputs": [],
   "source": [
    "import os, boto3"
   ]
  },
  {
   "cell_type": "code",
   "execution_count": 3,
   "id": "85f0a748-735b-4d55-a3d3-f72c24121723",
   "metadata": {
    "tags": []
   },
   "outputs": [
    {
     "data": {
      "text/plain": [
       "{'ResponseMetadata': {'RequestId': '17FD200F1A9A7E0C',\n",
       "  'HostId': 'dd9025bab4ad464b049177c95eb6ebf374d3b3fd1af9251148b658df7ac2e3e8',\n",
       "  'HTTPStatusCode': 200,\n",
       "  'HTTPHeaders': {'accept-ranges': 'bytes',\n",
       "   'content-length': '378',\n",
       "   'content-security-policy': 'block-all-mixed-content',\n",
       "   'content-type': 'application/xml',\n",
       "   'server': 'MinIO',\n",
       "   'strict-transport-security': 'max-age=31536000; includeSubDomains',\n",
       "   'vary': 'Origin, Accept-Encoding',\n",
       "   'x-amz-id-2': 'dd9025bab4ad464b049177c95eb6ebf374d3b3fd1af9251148b658df7ac2e3e8',\n",
       "   'x-amz-request-id': '17FD200F1A9A7E0C',\n",
       "   'x-content-type-options': 'nosniff',\n",
       "   'x-xss-protection': '1; mode=block',\n",
       "   'date': 'Thu, 10 Oct 2024 15:11:21 GMT',\n",
       "   'set-cookie': 'f4e4b49f7a2becaa6aa15da54a811a60=41ebc58f43fb3a0c24416efa82734c2a; path=/; HttpOnly'},\n",
       "  'RetryAttempts': 0},\n",
       " 'Buckets': [{'Name': 'projects-data-bucket',\n",
       "   'CreationDate': datetime.datetime(2024, 10, 10, 14, 56, 30, 422000, tzinfo=tzlocal())}],\n",
       " 'Owner': {'DisplayName': 'minio',\n",
       "  'ID': '02d6176db174dc93cb1b899f7c6078f08654445fe8cf1b6ce98d8855f66bdbf4'}}"
      ]
     },
     "execution_count": 3,
     "metadata": {},
     "output_type": "execute_result"
    }
   ],
   "source": [
    "s3 = boto3.client(\n",
    "    service_name= \"s3\",\n",
    "    region_name=os.getenv(\"AWS_DEFAULT_REGION\"),\n",
    "    aws_access_key_id=os.getenv(\"AWS_ACCESS_KEY_ID\"),\n",
    "    aws_secret_access_key=os.getenv(\"AWS_SECRET_ACCESS_KEY\"),\n",
    "    endpoint_url=os.getenv(\"AWS_S3_ENDPOINT\"),\n",
    "    use_ssl=False\n",
    ")\n",
    "s3.list_buckets()"
   ]
  },
  {
   "cell_type": "code",
   "execution_count": 7,
   "id": "4a2e0357-9130-4015-a08d-d902605c6a20",
   "metadata": {},
   "outputs": [],
   "source": [
    "s3.upload_file('hello.txt',Bucket='projects-data-bucket',Key='hello.txt')"
   ]
  },
  {
   "cell_type": "code",
   "execution_count": null,
   "id": "83e746b8-b32e-400f-9357-90061f145848",
   "metadata": {},
   "outputs": [],
   "source": []
  }
 ],
 "metadata": {
  "kernelspec": {
   "display_name": "Python 3.9",
   "language": "python",
   "name": "python3"
  },
  "language_info": {
   "codemirror_mode": {
    "name": "ipython",
    "version": 3
   },
   "file_extension": ".py",
   "mimetype": "text/x-python",
   "name": "python",
   "nbconvert_exporter": "python",
   "pygments_lexer": "ipython3",
   "version": "3.9.16"
  }
 },
 "nbformat": 4,
 "nbformat_minor": 5
}
